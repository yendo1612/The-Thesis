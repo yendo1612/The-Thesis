{
 "cells": [
  {
   "cell_type": "code",
   "execution_count": 113,
   "id": "45289e70-38d0-4927-a186-50b1fe2427b5",
   "metadata": {},
   "outputs": [],
   "source": [
    "import pandas as pd\n",
    "import numpy as np\n",
    "import matplotlib.pyplot as plt\n"
   ]
  },
  {
   "cell_type": "code",
   "execution_count": 114,
   "id": "4ce8a8c3-0a08-4aee-b268-fc7a899d0eda",
   "metadata": {},
   "outputs": [],
   "source": [
    "%config Completer.use_jedi = False"
   ]
  },
  {
   "cell_type": "code",
   "execution_count": 115,
   "id": "c23cdc66-616b-49ec-a7ab-e71fba1c9a6c",
   "metadata": {},
   "outputs": [],
   "source": [
    "tickers=['fpt.csv','mwg.csv','vcb.csv']\n",
    "port=pd.DataFrame()\n",
    "for t in tickers:\n",
    "    port[t]=pd.read_csv(t, index_col='<DTYYYYMMDD>')['<Close>']"
   ]
  },
  {
   "cell_type": "code",
   "execution_count": 116,
   "id": "b49a6e96-b19a-46c2-8012-7e553e81ec4f",
   "metadata": {},
   "outputs": [
    {
     "data": {
      "text/html": [
       "<div>\n",
       "<style scoped>\n",
       "    .dataframe tbody tr th:only-of-type {\n",
       "        vertical-align: middle;\n",
       "    }\n",
       "\n",
       "    .dataframe tbody tr th {\n",
       "        vertical-align: top;\n",
       "    }\n",
       "\n",
       "    .dataframe thead th {\n",
       "        text-align: right;\n",
       "    }\n",
       "</style>\n",
       "<table border=\"1\" class=\"dataframe\">\n",
       "  <thead>\n",
       "    <tr style=\"text-align: right;\">\n",
       "      <th></th>\n",
       "      <th>fpt.csv</th>\n",
       "      <th>mwg.csv</th>\n",
       "      <th>vcb.csv</th>\n",
       "    </tr>\n",
       "    <tr>\n",
       "      <th>&lt;DTYYYYMMDD&gt;</th>\n",
       "      <th></th>\n",
       "      <th></th>\n",
       "      <th></th>\n",
       "    </tr>\n",
       "  </thead>\n",
       "  <tbody>\n",
       "    <tr>\n",
       "      <th>20211105</th>\n",
       "      <td>97.6000</td>\n",
       "      <td>132.0</td>\n",
       "      <td>97.5</td>\n",
       "    </tr>\n",
       "    <tr>\n",
       "      <th>20211104</th>\n",
       "      <td>96.0000</td>\n",
       "      <td>129.9</td>\n",
       "      <td>98.4</td>\n",
       "    </tr>\n",
       "    <tr>\n",
       "      <th>20211103</th>\n",
       "      <td>96.1000</td>\n",
       "      <td>128.8</td>\n",
       "      <td>98.7</td>\n",
       "    </tr>\n",
       "    <tr>\n",
       "      <th>20211102</th>\n",
       "      <td>96.1000</td>\n",
       "      <td>128.9</td>\n",
       "      <td>97.9</td>\n",
       "    </tr>\n",
       "    <tr>\n",
       "      <th>20211101</th>\n",
       "      <td>95.8000</td>\n",
       "      <td>130.0</td>\n",
       "      <td>97.0</td>\n",
       "    </tr>\n",
       "    <tr>\n",
       "      <th>...</th>\n",
       "      <td>...</td>\n",
       "      <td>...</td>\n",
       "      <td>...</td>\n",
       "    </tr>\n",
       "    <tr>\n",
       "      <th>20061219</th>\n",
       "      <td>23.3650</td>\n",
       "      <td>NaN</td>\n",
       "      <td>NaN</td>\n",
       "    </tr>\n",
       "    <tr>\n",
       "      <th>20061218</th>\n",
       "      <td>22.2592</td>\n",
       "      <td>NaN</td>\n",
       "      <td>NaN</td>\n",
       "    </tr>\n",
       "    <tr>\n",
       "      <th>20061215</th>\n",
       "      <td>21.2016</td>\n",
       "      <td>NaN</td>\n",
       "      <td>NaN</td>\n",
       "    </tr>\n",
       "    <tr>\n",
       "      <th>20061214</th>\n",
       "      <td>20.1920</td>\n",
       "      <td>NaN</td>\n",
       "      <td>NaN</td>\n",
       "    </tr>\n",
       "    <tr>\n",
       "      <th>20061213</th>\n",
       "      <td>19.2305</td>\n",
       "      <td>NaN</td>\n",
       "      <td>NaN</td>\n",
       "    </tr>\n",
       "  </tbody>\n",
       "</table>\n",
       "<p>3711 rows × 3 columns</p>\n",
       "</div>"
      ],
      "text/plain": [
       "              fpt.csv  mwg.csv  vcb.csv\n",
       "<DTYYYYMMDD>                           \n",
       "20211105      97.6000    132.0     97.5\n",
       "20211104      96.0000    129.9     98.4\n",
       "20211103      96.1000    128.8     98.7\n",
       "20211102      96.1000    128.9     97.9\n",
       "20211101      95.8000    130.0     97.0\n",
       "...               ...      ...      ...\n",
       "20061219      23.3650      NaN      NaN\n",
       "20061218      22.2592      NaN      NaN\n",
       "20061215      21.2016      NaN      NaN\n",
       "20061214      20.1920      NaN      NaN\n",
       "20061213      19.2305      NaN      NaN\n",
       "\n",
       "[3711 rows x 3 columns]"
      ]
     },
     "execution_count": 116,
     "metadata": {},
     "output_type": "execute_result"
    }
   ],
   "source": [
    "port"
   ]
  },
  {
   "cell_type": "code",
   "execution_count": 117,
   "id": "efa0b543-6106-429b-afee-9d5e07671349",
   "metadata": {},
   "outputs": [],
   "source": [
    "port.reset_index('<DTYYYYMMDD>', inplace=True)"
   ]
  },
  {
   "cell_type": "code",
   "execution_count": 118,
   "id": "061aaea4-7976-49c7-acd9-280f3d94cc4f",
   "metadata": {},
   "outputs": [],
   "source": [
    "port.columns=['Date','FPT','MWG','VCB']"
   ]
  },
  {
   "cell_type": "code",
   "execution_count": 119,
   "id": "a0034a3f-a420-4e6b-bcb4-239e3f86c5f5",
   "metadata": {},
   "outputs": [],
   "source": [
    "port['Date']=port['Date'].astype(str)\n"
   ]
  },
  {
   "cell_type": "code",
   "execution_count": 120,
   "id": "8af2249e-3c75-404e-aa77-8c55e2c5b7c6",
   "metadata": {},
   "outputs": [],
   "source": [
    "port.sort_values('Date',ascending=True,inplace=True)"
   ]
  },
  {
   "cell_type": "code",
   "execution_count": 121,
   "id": "19318ab4-fb2e-47a5-aad0-b4901060301d",
   "metadata": {},
   "outputs": [
    {
     "data": {
      "text/html": [
       "<div>\n",
       "<style scoped>\n",
       "    .dataframe tbody tr th:only-of-type {\n",
       "        vertical-align: middle;\n",
       "    }\n",
       "\n",
       "    .dataframe tbody tr th {\n",
       "        vertical-align: top;\n",
       "    }\n",
       "\n",
       "    .dataframe thead th {\n",
       "        text-align: right;\n",
       "    }\n",
       "</style>\n",
       "<table border=\"1\" class=\"dataframe\">\n",
       "  <thead>\n",
       "    <tr style=\"text-align: right;\">\n",
       "      <th></th>\n",
       "      <th>Date</th>\n",
       "      <th>FPT</th>\n",
       "      <th>MWG</th>\n",
       "      <th>VCB</th>\n",
       "    </tr>\n",
       "  </thead>\n",
       "  <tbody>\n",
       "    <tr>\n",
       "      <th>3710</th>\n",
       "      <td>2006-12-13</td>\n",
       "      <td>19.2305</td>\n",
       "      <td>NaN</td>\n",
       "      <td>NaN</td>\n",
       "    </tr>\n",
       "    <tr>\n",
       "      <th>3709</th>\n",
       "      <td>2006-12-14</td>\n",
       "      <td>20.1920</td>\n",
       "      <td>NaN</td>\n",
       "      <td>NaN</td>\n",
       "    </tr>\n",
       "    <tr>\n",
       "      <th>3708</th>\n",
       "      <td>2006-12-15</td>\n",
       "      <td>21.2016</td>\n",
       "      <td>NaN</td>\n",
       "      <td>NaN</td>\n",
       "    </tr>\n",
       "    <tr>\n",
       "      <th>3707</th>\n",
       "      <td>2006-12-18</td>\n",
       "      <td>22.2592</td>\n",
       "      <td>NaN</td>\n",
       "      <td>NaN</td>\n",
       "    </tr>\n",
       "    <tr>\n",
       "      <th>3706</th>\n",
       "      <td>2006-12-19</td>\n",
       "      <td>23.3650</td>\n",
       "      <td>NaN</td>\n",
       "      <td>NaN</td>\n",
       "    </tr>\n",
       "    <tr>\n",
       "      <th>...</th>\n",
       "      <td>...</td>\n",
       "      <td>...</td>\n",
       "      <td>...</td>\n",
       "      <td>...</td>\n",
       "    </tr>\n",
       "    <tr>\n",
       "      <th>4</th>\n",
       "      <td>2021-11-01</td>\n",
       "      <td>95.8000</td>\n",
       "      <td>130.0</td>\n",
       "      <td>97.0</td>\n",
       "    </tr>\n",
       "    <tr>\n",
       "      <th>3</th>\n",
       "      <td>2021-11-02</td>\n",
       "      <td>96.1000</td>\n",
       "      <td>128.9</td>\n",
       "      <td>97.9</td>\n",
       "    </tr>\n",
       "    <tr>\n",
       "      <th>2</th>\n",
       "      <td>2021-11-03</td>\n",
       "      <td>96.1000</td>\n",
       "      <td>128.8</td>\n",
       "      <td>98.7</td>\n",
       "    </tr>\n",
       "    <tr>\n",
       "      <th>1</th>\n",
       "      <td>2021-11-04</td>\n",
       "      <td>96.0000</td>\n",
       "      <td>129.9</td>\n",
       "      <td>98.4</td>\n",
       "    </tr>\n",
       "    <tr>\n",
       "      <th>0</th>\n",
       "      <td>2021-11-05</td>\n",
       "      <td>97.6000</td>\n",
       "      <td>132.0</td>\n",
       "      <td>97.5</td>\n",
       "    </tr>\n",
       "  </tbody>\n",
       "</table>\n",
       "<p>3711 rows × 4 columns</p>\n",
       "</div>"
      ],
      "text/plain": [
       "           Date      FPT    MWG   VCB\n",
       "3710 2006-12-13  19.2305    NaN   NaN\n",
       "3709 2006-12-14  20.1920    NaN   NaN\n",
       "3708 2006-12-15  21.2016    NaN   NaN\n",
       "3707 2006-12-18  22.2592    NaN   NaN\n",
       "3706 2006-12-19  23.3650    NaN   NaN\n",
       "...         ...      ...    ...   ...\n",
       "4    2021-11-01  95.8000  130.0  97.0\n",
       "3    2021-11-02  96.1000  128.9  97.9\n",
       "2    2021-11-03  96.1000  128.8  98.7\n",
       "1    2021-11-04  96.0000  129.9  98.4\n",
       "0    2021-11-05  97.6000  132.0  97.5\n",
       "\n",
       "[3711 rows x 4 columns]"
      ]
     },
     "execution_count": 121,
     "metadata": {},
     "output_type": "execute_result"
    }
   ],
   "source": [
    "port['Date']=pd.to_datetime(port['Date'])\n",
    "port"
   ]
  },
  {
   "cell_type": "code",
   "execution_count": 122,
   "id": "59a1e451-e127-42a9-bf0c-3232cd7abc5d",
   "metadata": {},
   "outputs": [],
   "source": [
    "port=port.dropna()"
   ]
  },
  {
   "cell_type": "code",
   "execution_count": 123,
   "id": "19a44ad0-b706-432e-aea5-54df8bd93be0",
   "metadata": {},
   "outputs": [],
   "source": [
    "port.set_index('Date', inplace=True)"
   ]
  },
  {
   "cell_type": "code",
   "execution_count": 124,
   "id": "e47f05b2-7b42-48ec-bcc2-cd2d5bbd9e69",
   "metadata": {},
   "outputs": [
    {
     "data": {
      "text/html": [
       "<div>\n",
       "<style scoped>\n",
       "    .dataframe tbody tr th:only-of-type {\n",
       "        vertical-align: middle;\n",
       "    }\n",
       "\n",
       "    .dataframe tbody tr th {\n",
       "        vertical-align: top;\n",
       "    }\n",
       "\n",
       "    .dataframe thead th {\n",
       "        text-align: right;\n",
       "    }\n",
       "</style>\n",
       "<table border=\"1\" class=\"dataframe\">\n",
       "  <thead>\n",
       "    <tr style=\"text-align: right;\">\n",
       "      <th></th>\n",
       "      <th>FPT</th>\n",
       "      <th>MWG</th>\n",
       "      <th>VCB</th>\n",
       "    </tr>\n",
       "    <tr>\n",
       "      <th>Date</th>\n",
       "      <th></th>\n",
       "      <th></th>\n",
       "      <th></th>\n",
       "    </tr>\n",
       "  </thead>\n",
       "  <tbody>\n",
       "    <tr>\n",
       "      <th>2014-07-14</th>\n",
       "      <td>14.4565</td>\n",
       "      <td>8.8945</td>\n",
       "      <td>17.3482</td>\n",
       "    </tr>\n",
       "    <tr>\n",
       "      <th>2014-07-15</th>\n",
       "      <td>14.6321</td>\n",
       "      <td>9.4948</td>\n",
       "      <td>17.4157</td>\n",
       "    </tr>\n",
       "    <tr>\n",
       "      <th>2014-07-16</th>\n",
       "      <td>14.6029</td>\n",
       "      <td>10.1496</td>\n",
       "      <td>17.6182</td>\n",
       "    </tr>\n",
       "    <tr>\n",
       "      <th>2014-07-17</th>\n",
       "      <td>14.4565</td>\n",
       "      <td>10.8590</td>\n",
       "      <td>17.4832</td>\n",
       "    </tr>\n",
       "    <tr>\n",
       "      <th>2014-07-18</th>\n",
       "      <td>15.3637</td>\n",
       "      <td>11.5683</td>\n",
       "      <td>17.6857</td>\n",
       "    </tr>\n",
       "    <tr>\n",
       "      <th>...</th>\n",
       "      <td>...</td>\n",
       "      <td>...</td>\n",
       "      <td>...</td>\n",
       "    </tr>\n",
       "    <tr>\n",
       "      <th>2021-11-01</th>\n",
       "      <td>95.8000</td>\n",
       "      <td>130.0000</td>\n",
       "      <td>97.0000</td>\n",
       "    </tr>\n",
       "    <tr>\n",
       "      <th>2021-11-02</th>\n",
       "      <td>96.1000</td>\n",
       "      <td>128.9000</td>\n",
       "      <td>97.9000</td>\n",
       "    </tr>\n",
       "    <tr>\n",
       "      <th>2021-11-03</th>\n",
       "      <td>96.1000</td>\n",
       "      <td>128.8000</td>\n",
       "      <td>98.7000</td>\n",
       "    </tr>\n",
       "    <tr>\n",
       "      <th>2021-11-04</th>\n",
       "      <td>96.0000</td>\n",
       "      <td>129.9000</td>\n",
       "      <td>98.4000</td>\n",
       "    </tr>\n",
       "    <tr>\n",
       "      <th>2021-11-05</th>\n",
       "      <td>97.6000</td>\n",
       "      <td>132.0000</td>\n",
       "      <td>97.5000</td>\n",
       "    </tr>\n",
       "  </tbody>\n",
       "</table>\n",
       "<p>1830 rows × 3 columns</p>\n",
       "</div>"
      ],
      "text/plain": [
       "                FPT       MWG      VCB\n",
       "Date                                  \n",
       "2014-07-14  14.4565    8.8945  17.3482\n",
       "2014-07-15  14.6321    9.4948  17.4157\n",
       "2014-07-16  14.6029   10.1496  17.6182\n",
       "2014-07-17  14.4565   10.8590  17.4832\n",
       "2014-07-18  15.3637   11.5683  17.6857\n",
       "...             ...       ...      ...\n",
       "2021-11-01  95.8000  130.0000  97.0000\n",
       "2021-11-02  96.1000  128.9000  97.9000\n",
       "2021-11-03  96.1000  128.8000  98.7000\n",
       "2021-11-04  96.0000  129.9000  98.4000\n",
       "2021-11-05  97.6000  132.0000  97.5000\n",
       "\n",
       "[1830 rows x 3 columns]"
      ]
     },
     "execution_count": 124,
     "metadata": {},
     "output_type": "execute_result"
    }
   ],
   "source": [
    "port"
   ]
  },
  {
   "cell_type": "code",
   "execution_count": 125,
   "id": "a85342ae-c703-47fe-9389-6c8c2f2e7431",
   "metadata": {},
   "outputs": [
    {
     "data": {
      "text/html": [
       "<div>\n",
       "<style scoped>\n",
       "    .dataframe tbody tr th:only-of-type {\n",
       "        vertical-align: middle;\n",
       "    }\n",
       "\n",
       "    .dataframe tbody tr th {\n",
       "        vertical-align: top;\n",
       "    }\n",
       "\n",
       "    .dataframe thead th {\n",
       "        text-align: right;\n",
       "    }\n",
       "</style>\n",
       "<table border=\"1\" class=\"dataframe\">\n",
       "  <thead>\n",
       "    <tr style=\"text-align: right;\">\n",
       "      <th></th>\n",
       "      <th>FPT</th>\n",
       "      <th>MWG</th>\n",
       "      <th>VCB</th>\n",
       "    </tr>\n",
       "    <tr>\n",
       "      <th>Date</th>\n",
       "      <th></th>\n",
       "      <th></th>\n",
       "      <th></th>\n",
       "    </tr>\n",
       "  </thead>\n",
       "  <tbody>\n",
       "    <tr>\n",
       "      <th>2014-07-14</th>\n",
       "      <td>NaN</td>\n",
       "      <td>NaN</td>\n",
       "      <td>NaN</td>\n",
       "    </tr>\n",
       "    <tr>\n",
       "      <th>2014-07-15</th>\n",
       "      <td>0.012074</td>\n",
       "      <td>0.065311</td>\n",
       "      <td>0.003883</td>\n",
       "    </tr>\n",
       "    <tr>\n",
       "      <th>2014-07-16</th>\n",
       "      <td>-0.001998</td>\n",
       "      <td>0.066690</td>\n",
       "      <td>0.011560</td>\n",
       "    </tr>\n",
       "    <tr>\n",
       "      <th>2014-07-17</th>\n",
       "      <td>-0.010076</td>\n",
       "      <td>0.067560</td>\n",
       "      <td>-0.007692</td>\n",
       "    </tr>\n",
       "    <tr>\n",
       "      <th>2014-07-18</th>\n",
       "      <td>0.060863</td>\n",
       "      <td>0.063274</td>\n",
       "      <td>0.011516</td>\n",
       "    </tr>\n",
       "    <tr>\n",
       "      <th>...</th>\n",
       "      <td>...</td>\n",
       "      <td>...</td>\n",
       "      <td>...</td>\n",
       "    </tr>\n",
       "    <tr>\n",
       "      <th>2021-11-01</th>\n",
       "      <td>-0.011417</td>\n",
       "      <td>-0.010712</td>\n",
       "      <td>-0.010257</td>\n",
       "    </tr>\n",
       "    <tr>\n",
       "      <th>2021-11-02</th>\n",
       "      <td>0.003127</td>\n",
       "      <td>-0.008498</td>\n",
       "      <td>0.009236</td>\n",
       "    </tr>\n",
       "    <tr>\n",
       "      <th>2021-11-03</th>\n",
       "      <td>0.000000</td>\n",
       "      <td>-0.000776</td>\n",
       "      <td>0.008138</td>\n",
       "    </tr>\n",
       "    <tr>\n",
       "      <th>2021-11-04</th>\n",
       "      <td>-0.001041</td>\n",
       "      <td>0.008504</td>\n",
       "      <td>-0.003044</td>\n",
       "    </tr>\n",
       "    <tr>\n",
       "      <th>2021-11-05</th>\n",
       "      <td>0.016529</td>\n",
       "      <td>0.016037</td>\n",
       "      <td>-0.009188</td>\n",
       "    </tr>\n",
       "  </tbody>\n",
       "</table>\n",
       "<p>1830 rows × 3 columns</p>\n",
       "</div>"
      ],
      "text/plain": [
       "                 FPT       MWG       VCB\n",
       "Date                                    \n",
       "2014-07-14       NaN       NaN       NaN\n",
       "2014-07-15  0.012074  0.065311  0.003883\n",
       "2014-07-16 -0.001998  0.066690  0.011560\n",
       "2014-07-17 -0.010076  0.067560 -0.007692\n",
       "2014-07-18  0.060863  0.063274  0.011516\n",
       "...              ...       ...       ...\n",
       "2021-11-01 -0.011417 -0.010712 -0.010257\n",
       "2021-11-02  0.003127 -0.008498  0.009236\n",
       "2021-11-03  0.000000 -0.000776  0.008138\n",
       "2021-11-04 -0.001041  0.008504 -0.003044\n",
       "2021-11-05  0.016529  0.016037 -0.009188\n",
       "\n",
       "[1830 rows x 3 columns]"
      ]
     },
     "execution_count": 125,
     "metadata": {},
     "output_type": "execute_result"
    }
   ],
   "source": [
    "log_ret=np.log(port/port.shift(1))\n",
    "log_ret"
   ]
  },
  {
   "cell_type": "code",
   "execution_count": 126,
   "id": "e0114336-4273-4cff-8450-56b588b601c7",
   "metadata": {},
   "outputs": [
    {
     "data": {
      "text/plain": [
       "FPT    0.263123\n",
       "MWG    0.371644\n",
       "VCB    0.237859\n",
       "dtype: float64"
      ]
     },
     "execution_count": 126,
     "metadata": {},
     "output_type": "execute_result"
    }
   ],
   "source": [
    "####anualized log_return\n",
    "log_ret.mean()*252"
   ]
  },
  {
   "cell_type": "code",
   "execution_count": 127,
   "id": "3d78cdad-15db-49b7-b268-7e230f93c120",
   "metadata": {},
   "outputs": [
    {
     "data": {
      "text/html": [
       "<div>\n",
       "<style scoped>\n",
       "    .dataframe tbody tr th:only-of-type {\n",
       "        vertical-align: middle;\n",
       "    }\n",
       "\n",
       "    .dataframe tbody tr th {\n",
       "        vertical-align: top;\n",
       "    }\n",
       "\n",
       "    .dataframe thead th {\n",
       "        text-align: right;\n",
       "    }\n",
       "</style>\n",
       "<table border=\"1\" class=\"dataframe\">\n",
       "  <thead>\n",
       "    <tr style=\"text-align: right;\">\n",
       "      <th></th>\n",
       "      <th>FPT</th>\n",
       "      <th>MWG</th>\n",
       "      <th>VCB</th>\n",
       "    </tr>\n",
       "  </thead>\n",
       "  <tbody>\n",
       "    <tr>\n",
       "      <th>FPT</th>\n",
       "      <td>0.060206</td>\n",
       "      <td>0.034602</td>\n",
       "      <td>0.031625</td>\n",
       "    </tr>\n",
       "    <tr>\n",
       "      <th>MWG</th>\n",
       "      <td>0.034602</td>\n",
       "      <td>0.114637</td>\n",
       "      <td>0.032533</td>\n",
       "    </tr>\n",
       "    <tr>\n",
       "      <th>VCB</th>\n",
       "      <td>0.031625</td>\n",
       "      <td>0.032533</td>\n",
       "      <td>0.090713</td>\n",
       "    </tr>\n",
       "  </tbody>\n",
       "</table>\n",
       "</div>"
      ],
      "text/plain": [
       "          FPT       MWG       VCB\n",
       "FPT  0.060206  0.034602  0.031625\n",
       "MWG  0.034602  0.114637  0.032533\n",
       "VCB  0.031625  0.032533  0.090713"
      ]
     },
     "execution_count": 127,
     "metadata": {},
     "output_type": "execute_result"
    }
   ],
   "source": [
    "# anualized cov\n",
    "log_ret.cov()*252"
   ]
  },
  {
   "cell_type": "code",
   "execution_count": 128,
   "id": "2fccffb5-a5dc-4593-a931-1ed71b40144f",
   "metadata": {},
   "outputs": [
    {
     "data": {
      "text/html": [
       "<div>\n",
       "<style scoped>\n",
       "    .dataframe tbody tr th:only-of-type {\n",
       "        vertical-align: middle;\n",
       "    }\n",
       "\n",
       "    .dataframe tbody tr th {\n",
       "        vertical-align: top;\n",
       "    }\n",
       "\n",
       "    .dataframe thead th {\n",
       "        text-align: right;\n",
       "    }\n",
       "</style>\n",
       "<table border=\"1\" class=\"dataframe\">\n",
       "  <thead>\n",
       "    <tr style=\"text-align: right;\">\n",
       "      <th></th>\n",
       "      <th>FPT</th>\n",
       "      <th>MWG</th>\n",
       "      <th>VCB</th>\n",
       "    </tr>\n",
       "  </thead>\n",
       "  <tbody>\n",
       "    <tr>\n",
       "      <th>FPT</th>\n",
       "      <td>1.000000</td>\n",
       "      <td>0.416503</td>\n",
       "      <td>0.427937</td>\n",
       "    </tr>\n",
       "    <tr>\n",
       "      <th>MWG</th>\n",
       "      <td>0.416503</td>\n",
       "      <td>1.000000</td>\n",
       "      <td>0.319030</td>\n",
       "    </tr>\n",
       "    <tr>\n",
       "      <th>VCB</th>\n",
       "      <td>0.427937</td>\n",
       "      <td>0.319030</td>\n",
       "      <td>1.000000</td>\n",
       "    </tr>\n",
       "  </tbody>\n",
       "</table>\n",
       "</div>"
      ],
      "text/plain": [
       "          FPT       MWG       VCB\n",
       "FPT  1.000000  0.416503  0.427937\n",
       "MWG  0.416503  1.000000  0.319030\n",
       "VCB  0.427937  0.319030  1.000000"
      ]
     },
     "execution_count": 128,
     "metadata": {},
     "output_type": "execute_result"
    }
   ],
   "source": [
    "#correlation\n",
    "log_ret.corr()"
   ]
  },
  {
   "cell_type": "code",
   "execution_count": 129,
   "id": "2ab1d35c-498d-4321-9f75-91a0cb115106",
   "metadata": {},
   "outputs": [],
   "source": [
    "portfolio_weights=[]\n",
    "portfolio_return=[]\n",
    "portfolio_risk=[]\n",
    "sharpe_ratios=[]"
   ]
  },
  {
   "cell_type": "code",
   "execution_count": 130,
   "id": "b17249bb-38a1-4cec-a00c-0d0e8037e766",
   "metadata": {},
   "outputs": [],
   "source": [
    "tickers=['FPT','MWG','VCB']"
   ]
  },
  {
   "cell_type": "code",
   "execution_count": 131,
   "id": "8d9b9892-2fcf-4942-b819-85c66f794d25",
   "metadata": {},
   "outputs": [],
   "source": [
    "for i in range (500):\n",
    "    weights=np.random.random(len(tickers))\n",
    "    weights=np.round((weights/np.sum(weights)),3)\n",
    "    portfolio_weights.append(weights)\n",
    "    annualized_return=np.sum(weights*log_ret.mean())*252\n",
    "    portfolio_return.append(annualized_return)\n",
    "    matrix_coveriance=log_ret.cov()*252\n",
    "    portfolio_variance=np.dot(weights.T,np.dot(matrix_coveriance,weights))\n",
    "    portfolio_standare_deviation=np.sqrt(portfolio_variance)\n",
    "    portfolio_risk.append(portfolio_standare_deviation)                                      \n",
    "    sharpe_ratio=annualized_return/portfolio_standare_deviation\n",
    "    sharpe_ratios.append(sharpe_ratio)   \n",
    "    "
   ]
  },
  {
   "cell_type": "code",
   "execution_count": 132,
   "id": "f67b04f3-fcdc-4b38-a5c4-5beea7716782",
   "metadata": {},
   "outputs": [],
   "source": [
    "portfolio_returns=np.array(portfolio_return)\n",
    "portfolio_risks=np.array(portfolio_risk)\n",
    "sharpe_ratios=np.array(sharpe_ratios)"
   ]
  },
  {
   "cell_type": "code",
   "execution_count": 133,
   "id": "534d83ce-6fbe-4956-b47b-e6f6e191ac3f",
   "metadata": {},
   "outputs": [],
   "source": [
    "portfolio_metrics=[portfolio_return,portfolio_risk,sharpe_ratios,portfolio_weights]"
   ]
  },
  {
   "cell_type": "code",
   "execution_count": 134,
   "id": "f6829343-89a1-48eb-b246-a47acfd2e933",
   "metadata": {},
   "outputs": [],
   "source": [
    "portfolio_df=pd.DataFrame(portfolio_metrics).T"
   ]
  },
  {
   "cell_type": "code",
   "execution_count": 135,
   "id": "abb07244-566e-4f20-8d2c-b1ee2bddbcba",
   "metadata": {},
   "outputs": [],
   "source": [
    "portfolio_df.columns=['Return','Risk','Sharpe_ratios','Weights']"
   ]
  },
  {
   "cell_type": "code",
   "execution_count": 136,
   "id": "4ed024ae-8888-4aa0-be43-558e0aacceca",
   "metadata": {},
   "outputs": [
    {
     "data": {
      "text/html": [
       "<div>\n",
       "<style scoped>\n",
       "    .dataframe tbody tr th:only-of-type {\n",
       "        vertical-align: middle;\n",
       "    }\n",
       "\n",
       "    .dataframe tbody tr th {\n",
       "        vertical-align: top;\n",
       "    }\n",
       "\n",
       "    .dataframe thead th {\n",
       "        text-align: right;\n",
       "    }\n",
       "</style>\n",
       "<table border=\"1\" class=\"dataframe\">\n",
       "  <thead>\n",
       "    <tr style=\"text-align: right;\">\n",
       "      <th></th>\n",
       "      <th>Return</th>\n",
       "      <th>Risk</th>\n",
       "      <th>Sharpe_ratios</th>\n",
       "      <th>Weights</th>\n",
       "    </tr>\n",
       "  </thead>\n",
       "  <tbody>\n",
       "    <tr>\n",
       "      <th>0</th>\n",
       "      <td>0.252931</td>\n",
       "      <td>0.252767</td>\n",
       "      <td>1.000649</td>\n",
       "      <td>[0.21, 0.073, 0.717]</td>\n",
       "    </tr>\n",
       "    <tr>\n",
       "      <th>1</th>\n",
       "      <td>0.295541</td>\n",
       "      <td>0.225458</td>\n",
       "      <td>1.310849</td>\n",
       "      <td>[0.488, 0.339, 0.173]</td>\n",
       "    </tr>\n",
       "    <tr>\n",
       "      <th>2</th>\n",
       "      <td>0.291335</td>\n",
       "      <td>0.225328</td>\n",
       "      <td>1.292939</td>\n",
       "      <td>[0.368, 0.332, 0.299]</td>\n",
       "    </tr>\n",
       "    <tr>\n",
       "      <th>3</th>\n",
       "      <td>0.281492</td>\n",
       "      <td>0.252162</td>\n",
       "      <td>1.116313</td>\n",
       "      <td>[0.059, 0.315, 0.626]</td>\n",
       "    </tr>\n",
       "    <tr>\n",
       "      <th>4</th>\n",
       "      <td>0.290188</td>\n",
       "      <td>0.250656</td>\n",
       "      <td>1.157712</td>\n",
       "      <td>[0.059, 0.38, 0.561]</td>\n",
       "    </tr>\n",
       "    <tr>\n",
       "      <th>...</th>\n",
       "      <td>...</td>\n",
       "      <td>...</td>\n",
       "      <td>...</td>\n",
       "      <td>...</td>\n",
       "    </tr>\n",
       "    <tr>\n",
       "      <th>495</th>\n",
       "      <td>0.290393</td>\n",
       "      <td>0.227602</td>\n",
       "      <td>1.275879</td>\n",
       "      <td>[0.316, 0.333, 0.351]</td>\n",
       "    </tr>\n",
       "    <tr>\n",
       "      <th>496</th>\n",
       "      <td>0.270585</td>\n",
       "      <td>0.228858</td>\n",
       "      <td>1.18233</td>\n",
       "      <td>[0.321, 0.184, 0.495]</td>\n",
       "    </tr>\n",
       "    <tr>\n",
       "      <th>497</th>\n",
       "      <td>0.318365</td>\n",
       "      <td>0.254923</td>\n",
       "      <td>1.248867</td>\n",
       "      <td>[0.147, 0.574, 0.279]</td>\n",
       "    </tr>\n",
       "    <tr>\n",
       "      <th>498</th>\n",
       "      <td>0.296453</td>\n",
       "      <td>0.230229</td>\n",
       "      <td>1.287648</td>\n",
       "      <td>[0.307, 0.38, 0.313]</td>\n",
       "    </tr>\n",
       "    <tr>\n",
       "      <th>499</th>\n",
       "      <td>0.277271</td>\n",
       "      <td>0.234393</td>\n",
       "      <td>1.182932</td>\n",
       "      <td>[0.861, 0.132, 0.007]</td>\n",
       "    </tr>\n",
       "  </tbody>\n",
       "</table>\n",
       "<p>500 rows × 4 columns</p>\n",
       "</div>"
      ],
      "text/plain": [
       "       Return      Risk Sharpe_ratios                Weights\n",
       "0    0.252931  0.252767      1.000649   [0.21, 0.073, 0.717]\n",
       "1    0.295541  0.225458      1.310849  [0.488, 0.339, 0.173]\n",
       "2    0.291335  0.225328      1.292939  [0.368, 0.332, 0.299]\n",
       "3    0.281492  0.252162      1.116313  [0.059, 0.315, 0.626]\n",
       "4    0.290188  0.250656      1.157712   [0.059, 0.38, 0.561]\n",
       "..        ...       ...           ...                    ...\n",
       "495  0.290393  0.227602      1.275879  [0.316, 0.333, 0.351]\n",
       "496  0.270585  0.228858       1.18233  [0.321, 0.184, 0.495]\n",
       "497  0.318365  0.254923      1.248867  [0.147, 0.574, 0.279]\n",
       "498  0.296453  0.230229      1.287648   [0.307, 0.38, 0.313]\n",
       "499  0.277271  0.234393      1.182932  [0.861, 0.132, 0.007]\n",
       "\n",
       "[500 rows x 4 columns]"
      ]
     },
     "execution_count": 136,
     "metadata": {},
     "output_type": "execute_result"
    }
   ],
   "source": [
    "portfolio_df"
   ]
  },
  {
   "cell_type": "code",
   "execution_count": 137,
   "id": "2690acb8-6c1a-47e0-a9a2-e9af896a0ecc",
   "metadata": {},
   "outputs": [],
   "source": [
    "min_risk=portfolio_df.iloc[portfolio_df['Risk'].astype(float).idxmin()]"
   ]
  },
  {
   "cell_type": "code",
   "execution_count": 138,
   "id": "f209f805-d226-49a8-8a98-caa634a4032c",
   "metadata": {},
   "outputs": [],
   "source": [
    "max_return=portfolio_df.iloc[portfolio_df['Return'].astype(float).idxmax()]"
   ]
  },
  {
   "cell_type": "code",
   "execution_count": 139,
   "id": "4275f749-a75c-43ee-871c-0b7df8f82b6e",
   "metadata": {},
   "outputs": [],
   "source": [
    "highest_sharpe=portfolio_df.iloc[portfolio_df['Sharpe_ratios'].astype(float).idxmax()]"
   ]
  },
  {
   "cell_type": "code",
   "execution_count": 140,
   "id": "e382a0c8-256a-40ad-91ee-d7c87a162c30",
   "metadata": {},
   "outputs": [
    {
     "data": {
      "text/plain": [
       "Return                       0.275479\n",
       "Risk                         0.219114\n",
       "Sharpe_ratios                1.257243\n",
       "Weights          [0.52, 0.183, 0.297]\n",
       "Name: 348, dtype: object"
      ]
     },
     "execution_count": 140,
     "metadata": {},
     "output_type": "execute_result"
    }
   ],
   "source": [
    "min_risk"
   ]
  },
  {
   "cell_type": "code",
   "execution_count": 141,
   "id": "2d0313a8-4340-4816-9632-bce40c06604d",
   "metadata": {},
   "outputs": [
    {
     "data": {
      "text/plain": [
       "Return                      0.350491\n",
       "Risk                        0.298484\n",
       "Sharpe_ratios               1.174235\n",
       "Weights          [0.1, 0.823, 0.077]\n",
       "Name: 128, dtype: object"
      ]
     },
     "execution_count": 141,
     "metadata": {},
     "output_type": "execute_result"
    }
   ],
   "source": [
    "max_return"
   ]
  },
  {
   "cell_type": "code",
   "execution_count": 142,
   "id": "c6598c28-4f4e-4610-a628-fe24c6ca0d92",
   "metadata": {},
   "outputs": [
    {
     "data": {
      "text/plain": [
       "Return                       0.300468\n",
       "Risk                         0.228867\n",
       "Sharpe_ratios                1.312851\n",
       "Weights          [0.45, 0.383, 0.167]\n",
       "Name: 279, dtype: object"
      ]
     },
     "execution_count": 142,
     "metadata": {},
     "output_type": "execute_result"
    }
   ],
   "source": [
    "highest_sharpe"
   ]
  },
  {
   "cell_type": "markdown",
   "id": "a4070298-e5bd-4f27-924c-9c064c17fbda",
   "metadata": {},
   "source": [
    "#### Visualization"
   ]
  },
  {
   "cell_type": "code",
   "execution_count": 143,
   "id": "01141a45-d524-4b23-8e42-53ba11592259",
   "metadata": {},
   "outputs": [
    {
     "data": {
      "text/plain": [
       "<matplotlib.colorbar.Colorbar at 0x13e03628088>"
      ]
     },
     "execution_count": 143,
     "metadata": {},
     "output_type": "execute_result"
    },
    {
     "data": {
      "image/png": "[encoded data removed]",
      "text/plain": [
       "<Figure size 720x360 with 2 Axes>"
      ]
     },
     "metadata": {
      "needs_background": "light"
     },
     "output_type": "display_data"
    }
   ],
   "source": [
    "plt.figure(figsize=(10,5))\n",
    "plt.scatter(portfolio_risks,portfolio_returns, c=portfolio_returns/portfolio_risks)\n",
    "plt.title('Portfolio Optimization', fontsize=20)\n",
    "plt.xlabel('Volatility',fontsize=20)\n",
    "plt.xlabel('Return',fontsize=20)\n",
    "plt.colorbar(label='Sharpe Ratio')"
   ]
  },
  {
   "cell_type": "code",
   "execution_count": null,
   "id": "1bb8c23e-691e-44fa-8065-182251463bc4",
   "metadata": {},
   "outputs": [],
   "source": []
  }
 ],
 "metadata": {
  "kernelspec": {
   "display_name": "Python 3",
   "language": "python",
   "name": "python3"
  },
  "language_info": {
   "codemirror_mode": {
    "name": "ipython",
    "version": 3
   },
   "file_extension": ".py",
   "mimetype": "text/x-python",
   "name": "python",
   "nbconvert_exporter": "python",
   "pygments_lexer": "ipython3",
   "version": "3.7.10"
  }
 },
 "nbformat": 4,
 "nbformat_minor": 5
}
